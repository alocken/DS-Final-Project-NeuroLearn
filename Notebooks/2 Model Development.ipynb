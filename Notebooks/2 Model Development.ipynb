{
 "cells": [
  {
   "cell_type": "markdown",
   "id": "c0d703a7",
   "metadata": {},
   "source": [
    "# Model Development \n",
    "Data has been loaded and prepared, next focus will be on:\n",
    "- Normalize image pixel values and compelte train/test('validation') split in preparation for deep learning image recognition model use\n",
    "- Develop model architecture - build Convolutional Neural Network (CNN) model using TensorFlow Keras. Specifically, using tf.keras.Sequential which is a standar API in TensorFlow for building deep learning image recognition models. CNN is suited for image classification tasks and is a classic deep learning architecture for image recognition.\n",
    "- Compile the model - specify the optimzer, loss, and metrics\n",
    "- Train the model - fit model using model.fit()\n",
    "- Evalute and visualize - evaluate the performance of the model on test data"
   ]
  },
  {
   "cell_type": "code",
   "execution_count": 1,
   "id": "b3bf957f",
   "metadata": {},
   "outputs": [
    {
     "name": "stdout",
     "output_type": "stream",
     "text": [
      "Found 3208 images belonging to 2 classes.\n",
      "Found 800 images belonging to 2 classes.\n"
     ]
    }
   ],
   "source": [
    "#Normalize image pixel values and complete train/test data split in preparation for deep learning\n",
    "from tensorflow.keras.preprocessing.image import ImageDataGenerator\n",
    "\n",
    "data_dir = \"C:/Users/alial/OneDrive/Desktop/LHL/Final Project/Data\"\n",
    "\n",
    "# ImageDataGenerator with normalization and split\n",
    "datagen = ImageDataGenerator(\n",
    "    rescale=1./255,\n",
    "    validation_split=0.2  # \"test\" split (Keras uses 'validation' as the key name)\n",
    ")\n",
    "\n",
    "# Training set\n",
    "train_generator = datagen.flow_from_directory(\n",
    "    directory=data_dir,\n",
    "    target_size=(224, 224),\n",
    "    batch_size=32,\n",
    "    class_mode='binary',\n",
    "    subset='training',  # 80%\n",
    "    shuffle=True\n",
    ")\n",
    "\n",
    "# Test set (Keras calls it 'validation')\n",
    "test_generator = datagen.flow_from_directory(\n",
    "    directory=data_dir,\n",
    "    target_size=(224, 224),\n",
    "    batch_size=32,\n",
    "    class_mode='binary',\n",
    "    subset='validation',  # 20%\n",
    "    shuffle=False\n",
    ")"
   ]
  },
  {
   "cell_type": "code",
   "execution_count": 2,
   "id": "e5f296a7",
   "metadata": {},
   "outputs": [
    {
     "name": "stderr",
     "output_type": "stream",
     "text": [
      "c:\\Users\\alial\\anaconda3\\Lib\\site-packages\\keras\\src\\layers\\convolutional\\base_conv.py:113: UserWarning: Do not pass an `input_shape`/`input_dim` argument to a layer. When using Sequential models, prefer using an `Input(shape)` object as the first layer in the model instead.\n",
      "  super().__init__(activity_regularizer=activity_regularizer, **kwargs)\n"
     ]
    }
   ],
   "source": [
    "#CNN architecture \n",
    "from tensorflow.keras import layers, models\n",
    "\n",
    "model = models.Sequential([\n",
    "    layers.Conv2D(32, (3, 3), activation='relu', input_shape=(224, 224, 3)),\n",
    "    layers.MaxPooling2D(2, 2),\n",
    "\n",
    "    layers.Conv2D(64, (3, 3), activation='relu'),\n",
    "    layers.MaxPooling2D(2, 2),\n",
    "\n",
    "    layers.Conv2D(128, (3, 3), activation='relu'),\n",
    "    layers.MaxPooling2D(2, 2),\n",
    "\n",
    "    layers.Flatten(),\n",
    "    layers.Dense(128, activation='relu'),\n",
    "    layers.Dense(1, activation='sigmoid')  # Binary classification\n",
    "])"
   ]
  },
  {
   "cell_type": "code",
   "execution_count": 3,
   "id": "94dcf01c",
   "metadata": {},
   "outputs": [],
   "source": [
    "#Compile model\n",
    "model.compile(\n",
    "    optimizer='adam',\n",
    "    loss='binary_crossentropy',\n",
    "    metrics=['accuracy']\n",
    ")"
   ]
  },
  {
   "cell_type": "code",
   "execution_count": 4,
   "id": "81e70053",
   "metadata": {},
   "outputs": [
    {
     "name": "stderr",
     "output_type": "stream",
     "text": [
      "c:\\Users\\alial\\anaconda3\\Lib\\site-packages\\keras\\src\\trainers\\data_adapters\\py_dataset_adapter.py:121: UserWarning: Your `PyDataset` class should call `super().__init__(**kwargs)` in its constructor. `**kwargs` can include `workers`, `use_multiprocessing`, `max_queue_size`. Do not pass these arguments to `fit()`, as they will be ignored.\n",
      "  self._warn_if_super_not_called()\n"
     ]
    },
    {
     "name": "stdout",
     "output_type": "stream",
     "text": [
      "Epoch 1/10\n",
      "\u001b[1m101/101\u001b[0m \u001b[32m━━━━━━━━━━━━━━━━━━━━\u001b[0m\u001b[37m\u001b[0m \u001b[1m69s\u001b[0m 666ms/step - accuracy: 0.6904 - loss: 0.7934 - val_accuracy: 0.8375 - val_loss: 0.4720\n",
      "Epoch 2/10\n",
      "\u001b[1m101/101\u001b[0m \u001b[32m━━━━━━━━━━━━━━━━━━━━\u001b[0m\u001b[37m\u001b[0m \u001b[1m65s\u001b[0m 642ms/step - accuracy: 0.8368 - loss: 0.3943 - val_accuracy: 0.8275 - val_loss: 0.4006\n",
      "Epoch 3/10\n",
      "\u001b[1m101/101\u001b[0m \u001b[32m━━━━━━━━━━━━━━━━━━━━\u001b[0m\u001b[37m\u001b[0m \u001b[1m63s\u001b[0m 626ms/step - accuracy: 0.8797 - loss: 0.2829 - val_accuracy: 0.8525 - val_loss: 0.4197\n",
      "Epoch 4/10\n",
      "\u001b[1m101/101\u001b[0m \u001b[32m━━━━━━━━━━━━━━━━━━━━\u001b[0m\u001b[37m\u001b[0m \u001b[1m63s\u001b[0m 625ms/step - accuracy: 0.9083 - loss: 0.2363 - val_accuracy: 0.8537 - val_loss: 0.3952\n",
      "Epoch 5/10\n",
      "\u001b[1m101/101\u001b[0m \u001b[32m━━━━━━━━━━━━━━━━━━━━\u001b[0m\u001b[37m\u001b[0m \u001b[1m63s\u001b[0m 626ms/step - accuracy: 0.9444 - loss: 0.1645 - val_accuracy: 0.8462 - val_loss: 0.3481\n",
      "Epoch 6/10\n",
      "\u001b[1m101/101\u001b[0m \u001b[32m━━━━━━━━━━━━━━━━━━━━\u001b[0m\u001b[37m\u001b[0m \u001b[1m63s\u001b[0m 628ms/step - accuracy: 0.9519 - loss: 0.1265 - val_accuracy: 0.8600 - val_loss: 0.3744\n",
      "Epoch 7/10\n",
      "\u001b[1m101/101\u001b[0m \u001b[32m━━━━━━━━━━━━━━━━━━━━\u001b[0m\u001b[37m\u001b[0m \u001b[1m65s\u001b[0m 640ms/step - accuracy: 0.9612 - loss: 0.0931 - val_accuracy: 0.8650 - val_loss: 0.4034\n",
      "Epoch 8/10\n",
      "\u001b[1m101/101\u001b[0m \u001b[32m━━━━━━━━━━━━━━━━━━━━\u001b[0m\u001b[37m\u001b[0m \u001b[1m63s\u001b[0m 627ms/step - accuracy: 0.9734 - loss: 0.0717 - val_accuracy: 0.8438 - val_loss: 0.5730\n",
      "Epoch 9/10\n",
      "\u001b[1m101/101\u001b[0m \u001b[32m━━━━━━━━━━━━━━━━━━━━\u001b[0m\u001b[37m\u001b[0m \u001b[1m63s\u001b[0m 625ms/step - accuracy: 0.9832 - loss: 0.0478 - val_accuracy: 0.8700 - val_loss: 0.5538\n",
      "Epoch 10/10\n",
      "\u001b[1m101/101\u001b[0m \u001b[32m━━━━━━━━━━━━━━━━━━━━\u001b[0m\u001b[37m\u001b[0m \u001b[1m63s\u001b[0m 623ms/step - accuracy: 0.9826 - loss: 0.0465 - val_accuracy: 0.8587 - val_loss: 0.5369\n"
     ]
    }
   ],
   "source": [
    "#Train model \n",
    "history = model.fit(\n",
    "    train_generator,\n",
    "    epochs=10,  # You can increase this\n",
    "    validation_data=test_generator\n",
    ")"
   ]
  },
  {
   "cell_type": "code",
   "execution_count": 5,
   "id": "520378f9",
   "metadata": {},
   "outputs": [
    {
     "name": "stdout",
     "output_type": "stream",
     "text": [
      "\u001b[1m25/25\u001b[0m \u001b[32m━━━━━━━━━━━━━━━━━━━━\u001b[0m\u001b[37m\u001b[0m \u001b[1m5s\u001b[0m 179ms/step - accuracy: 0.8533 - loss: 0.5537\n",
      "Test Accuracy: 0.8587\n",
      "\u001b[1m25/25\u001b[0m \u001b[32m━━━━━━━━━━━━━━━━━━━━\u001b[0m\u001b[37m\u001b[0m \u001b[1m4s\u001b[0m 173ms/step\n",
      "\n",
      "Classification Report:\n",
      "                              precision    recall  f1-score   support\n",
      "\n",
      "    Glioma - Basic_Color_Map       0.86      0.86      0.86       400\n",
      "Meningioma - Basic_Color_Map       0.86      0.86      0.86       400\n",
      "\n",
      "                    accuracy                           0.86       800\n",
      "                   macro avg       0.86      0.86      0.86       800\n",
      "                weighted avg       0.86      0.86      0.86       800\n",
      "\n",
      "\n",
      "Confusion Matrix:\n",
      "[[343  57]\n",
      " [ 56 344]]\n"
     ]
    }
   ],
   "source": [
    "#Evaluate and visualize model\n",
    "#Evaluate performance\n",
    "loss, accuracy = model.evaluate(test_generator)\n",
    "print(f\"Test Accuracy: {accuracy:.4f}\")\n",
    "\n",
    "#Classification report and confusion matrix\n",
    "import numpy as np\n",
    "from sklearn.metrics import classification_report, confusion_matrix\n",
    "\n",
    "#true labels and predictions\n",
    "y_true = test_generator.classes\n",
    "y_pred = (model.predict(test_generator) > 0.5).astype(\"int32\")\n",
    "\n",
    "#Report\n",
    "print(\"\\nClassification Report:\")\n",
    "print(classification_report(y_true, y_pred, target_names=test_generator.class_indices.keys()))\n",
    "\n",
    "print(\"\\nConfusion Matrix:\")\n",
    "print(confusion_matrix(y_true, y_pred))"
   ]
  }
 ],
 "metadata": {
  "kernelspec": {
   "display_name": "base",
   "language": "python",
   "name": "python3"
  },
  "language_info": {
   "codemirror_mode": {
    "name": "ipython",
    "version": 3
   },
   "file_extension": ".py",
   "mimetype": "text/x-python",
   "name": "python",
   "nbconvert_exporter": "python",
   "pygments_lexer": "ipython3",
   "version": "3.12.3"
  }
 },
 "nbformat": 4,
 "nbformat_minor": 5
}
